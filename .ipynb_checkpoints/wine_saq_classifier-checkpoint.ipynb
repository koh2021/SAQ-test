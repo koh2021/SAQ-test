{
 "cells": [
  {
   "cell_type": "code",
   "execution_count": 8,
   "metadata": {},
   "outputs": [],
   "source": [
    "%reload_ext autoreload\n",
    "%autoreload 2\n",
    "%matplotlib inline\n",
    "\n",
    "import pandas as pd\n",
    "import numpy as np\n",
    "import matplotlib.pyplot as plt\n",
    "from numpy import mean\n",
    "from numpy import std\n",
    "# from sklearn.metrics import log_loss, plot_confusion_matrix\n",
    "# from sklearn.model_selection import RepeatedStratifiedKFold\n",
    "# from sklearn.metrics import mean_absolute_error\n",
    "# from sklearn.model_selection import KFold, cross_val_score, train_test_split\n",
    "# from sklearn.linear_model import LinearRegression\n",
    "# from catboost import CatBoostClassifier, Pool, cv\n",
    "# from catboost.utils import get_roc_curve, get_confusion_matrix\n",
    "# from sklearn.metrics import accuracy_score, confusion_matrix, recall_score, precision_score, f1_score, auc\n",
    "# from sklearn.metrics import classification_report\n",
    "from sklearn.tree import DecisionTreeClassifier\n",
    "# from sklearn.metrics import accuracy_score\n",
    "# from sklearn.preprocessing import StandardScaler\n",
    "# from sklearn.pipeline import Pipeline\n",
    "from joblib import dump, load\n",
    "from ipywidgets import *"
   ]
  },
  {
   "cell_type": "markdown",
   "metadata": {},
   "source": [
    "# SAQ - Modèle prédictif de la qualité d’un vin"
   ]
  },
  {
   "cell_type": "code",
   "execution_count": 2,
   "metadata": {},
   "outputs": [
    {
     "data": {
      "image/png": "[encoded data removed]",
      "text/plain": [
       "<IPython.core.display.Image object>"
      ]
     },
     "execution_count": 2,
     "metadata": {},
     "output_type": "execute_result"
    }
   ],
   "source": [
    "from IPython import display \n",
    "display.Image(\"saq-logo-caroussel.png\")"
   ]
  },
  {
   "cell_type": "markdown",
   "metadata": {},
   "source": [
    "<br>\n",
    "\n",
    "### Échelle des notes allant de 1 à 5\n",
    "\n",
    "- 5 Stars :  *A Classic*\n",
    "- 4 Stars :\t*Excellent*\n",
    "- 3 Stars :\t*Good Everyday Drinking*\n",
    "- 2 Stars :\t*Casual Quaffing*\n",
    "- 1 Star : *Very Ordinary*\n",
    "\n",
    "lien : https://www.wine-searcher.com/wine-scores"
   ]
  },
  {
   "cell_type": "code",
   "execution_count": 14,
   "metadata": {},
   "outputs": [],
   "source": [
    "style = {'description_width': 'initial'}\n",
    "\n",
    "model = load('model_classifier.joblib') \n",
    "output = widgets.Output()\n",
    "lbl_pred = widgets.Label() \n",
    "btn_run = widgets.Button(description='Classify')"
   ]
  },
  {
   "cell_type": "code",
   "execution_count": 27,
   "metadata": {},
   "outputs": [],
   "source": [
    "style = {'description_width': 'initial'}\n",
    "\n",
    "model = model\n",
    "output = widgets.Output()\n",
    "lbl_pred = widgets.Label() \n",
    "btn_run = widgets.Button(description='Classify')\n",
    "\n",
    "a = widgets.FloatSlider(description='Alcohol:', value=8, min=7, max=14, style=style)\n",
    "b = widgets.FloatSlider(description='volatile acidity:', value=0.5, min=0.08000\t, max=1.1,  style=style)\n",
    "c = widgets.FloatSlider(description='pH:', value=10, min=2, max=4,  style=style)\n",
    "hbox3 = widgets.HBox([a, b, c])\n",
    "\n",
    "def abc_classifier(change):\n",
    "    lbl_pred.value = ''\n",
    "    output.clear_output()\n",
    "    with output:\n",
    "      # a.value = change['new']\n",
    "      # b.value = change['new']\n",
    "      # c.value = change['new']\n",
    "      data = [[a.value, b.value, c.value]]\n",
    "      pred = model.predict(data)\n",
    "      lbl_pred.value = f'Ce vin est noté {pred[0]} étoiles'\n",
    "      print(\"\")\n",
    "      print(lbl_pred.value)\n",
    "\n"
   ]
  },
  {
   "cell_type": "code",
   "execution_count": 28,
   "metadata": {},
   "outputs": [],
   "source": [
    "btn_run.on_click(abc_classifier)"
   ]
  },
  {
   "cell_type": "code",
   "execution_count": 29,
   "metadata": {
    "scrolled": false
   },
   "outputs": [
    {
     "data": {
      "application/vnd.jupyter.widget-view+json": {
       "model_id": "0affb85157ae443abab916f4998d9d65",
       "version_major": 2,
       "version_minor": 0
      },
      "text/plain": [
       "VBox(children=(Label(value='Choissisez les values'), HBox(children=(FloatSlider(value=8.0, description='Alcoho…"
      ]
     },
     "metadata": {},
     "output_type": "display_data"
    }
   ],
   "source": [
    "display(VBox([widgets.Label('Choissisez les valeurs'), hbox3, btn_run, output]))"
   ]
  },
  {
   "cell_type": "code",
   "execution_count": null,
   "metadata": {},
   "outputs": [],
   "source": []
  }
 ],
 "metadata": {
  "jupytext": {
   "split_at_heading": true
  },
  "kernelspec": {
   "display_name": "Python 3",
   "language": "python",
   "name": "python3"
  },
  "language_info": {
   "codemirror_mode": {
    "name": "ipython",
    "version": 3
   },
   "file_extension": ".py",
   "mimetype": "text/x-python",
   "name": "python",
   "nbconvert_exporter": "python",
   "pygments_lexer": "ipython3",
   "version": "3.7.8"
  },
  "toc": {
   "base_numbering": 1,
   "nav_menu": {},
   "number_sections": false,
   "sideBar": true,
   "skip_h1_title": true,
   "title_cell": "Table of Contents",
   "title_sidebar": "Contents",
   "toc_cell": false,
   "toc_position": {},
   "toc_section_display": true,
   "toc_window_display": false
  }
 },
 "nbformat": 4,
 "nbformat_minor": 2
}
