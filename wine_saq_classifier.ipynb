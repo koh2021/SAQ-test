{
 "cells": [
  {
   "cell_type": "code",
   "execution_count": 2,
   "metadata": {},
   "outputs": [],
   "source": [
    "\n",
    "from sklearn.tree import DecisionTreeClassifier\n",
    "\n",
    "from joblib import dump, load\n",
    "from ipywidgets import *"
   ]
  },
  {
   "cell_type": "markdown",
   "metadata": {},
   "source": [
    "# SAQ - Modèle prédictif de la qualité d’un vin"
   ]
  },
  {
   "cell_type": "code",
   "execution_count": 5,
   "metadata": {},
   "outputs": [
    {
     "data": {
      "application/vnd.jupyter.widget-view+json": {
       "model_id": "223f70fd7f434c3e8a9ea180aa8a934b",
       "version_major": 2,
       "version_minor": 0
      },
      "text/plain": [
       "Image(value=b'\\x89PNG\\r\\n\\x1a\\n\\x00\\x00\\x00\\rIHDR\\x00\\x00\\x01\\xf4\\x00\\x00\\x00\\xfa\\x08\\x03\\x00\\x00\\x00`uE|\\x00\\…"
      ]
     },
     "metadata": {},
     "output_type": "display_data"
    }
   ],
   "source": [
    "file = open(\"saq-logo-caroussel.png\", \"rb\")\n",
    "image = file.read()\n",
    "widgets.Image(\n",
    "    value=image,\n",
    "    format='png',\n",
    "    width=450,\n",
    "    height=650,\n",
    ")"
   ]
  },
  {
   "cell_type": "code",
   "execution_count": 6,
   "metadata": {},
   "outputs": [],
   "source": [
    "model = load('model_classifier.joblib') \n",
    "output = widgets.Output()\n",
    "lbl_pred = widgets.Label() \n",
    "btn_run = widgets.Button(description='Classify')"
   ]
  },
  {
   "cell_type": "code",
   "execution_count": 25,
   "metadata": {},
   "outputs": [],
   "source": [
    "style = {'description_width': 'initial'}\n",
    "\n",
    "model = model\n",
    "output = widgets.Output()\n",
    "lbl_pred = widgets.Label() \n",
    "btn_run = widgets.Button(description='Classify')\n",
    "\n",
    "a = widgets.FloatSlider(description='Alcohol:', value=8, min=7, max=14, style=style)\n",
    "b = widgets.FloatSlider(description='volatile acidity:', value=0.5, min=0.08000\t, max=1.1,  style=style)\n",
    "c = widgets.FloatSlider(description='pH:', value=10, min=2, max=4,  style=style)\n",
    "hbox3 = widgets.HBox([a, b, c])\n",
    "\n",
    "\n",
    "def abc_classifier(change):\n",
    "    lbl_pred.value = ''\n",
    "    output.clear_output()\n",
    "    with output:\n",
    "      # a.value = change['new']\n",
    "      # b.value = change['new']\n",
    "      # c.value = change['new']\n",
    "      data = [[a.value, b.value, c.value]]\n",
    "      pred = model.predict(data)\n",
    "      lbl_pred.value = f'Ce vin est noté {pred[0]} étoiles' \n",
    "      print(\"\")\n",
    "      print(lbl_pred.value)"
   ]
  },
  {
   "cell_type": "code",
   "execution_count": 26,
   "metadata": {},
   "outputs": [],
   "source": [
    "btn_run.on_click(abc_classifier)"
   ]
  },
  {
   "cell_type": "markdown",
   "metadata": {
    "scrolled": false
   },
   "source": [
    "Échelle des notes allant de 1 à 5\n",
    "\n",
    "- 5 étoiles : *A Classic*\n",
    "- 4 étoiles : *Excellent*\n",
    "- 3 étoiles : *Good Everyday Drinking*\n",
    "- 2 étoiles : *Casual Quaffing*\n",
    "- 1 étoiles : *Very Ordinary*"
   ]
  },
  {
   "cell_type": "code",
   "execution_count": 27,
   "metadata": {},
   "outputs": [
    {
     "data": {
      "application/vnd.jupyter.widget-view+json": {
       "model_id": "bef8a4fcc0914a39b71ff5a82be45db6",
       "version_major": 2,
       "version_minor": 0
      },
      "text/plain": [
       "VBox(children=(Label(value='Choissisez les valeurs'), HBox(children=(FloatSlider(value=8.0, description='Alcoh…"
      ]
     },
     "metadata": {},
     "output_type": "display_data"
    }
   ],
   "source": [
    "display(VBox([widgets.Label('Choissisez les valeurs'), hbox3, btn_run, output]))"
   ]
  },
  {
   "cell_type": "code",
   "execution_count": null,
   "metadata": {},
   "outputs": [],
   "source": []
  }
 ],
 "metadata": {
  "jupytext": {
   "split_at_heading": true
  },
  "kernelspec": {
   "display_name": "Python 3",
   "language": "python",
   "name": "python3"
  },
  "language_info": {
   "codemirror_mode": {
    "name": "ipython",
    "version": 3
   },
   "file_extension": ".py",
   "mimetype": "text/x-python",
   "name": "python",
   "nbconvert_exporter": "python",
   "pygments_lexer": "ipython3",
   "version": "3.7.8"
  },
  "toc": {
   "base_numbering": 1,
   "nav_menu": {},
   "number_sections": false,
   "sideBar": true,
   "skip_h1_title": true,
   "title_cell": "Table of Contents",
   "title_sidebar": "Contents",
   "toc_cell": false,
   "toc_position": {},
   "toc_section_display": true,
   "toc_window_display": false
  }
 },
 "nbformat": 4,
 "nbformat_minor": 2
}
