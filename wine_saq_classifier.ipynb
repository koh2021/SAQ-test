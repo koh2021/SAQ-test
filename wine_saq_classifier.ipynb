{
 "cells": [
  {
   "cell_type": "code",
   "execution_count": 2,
   "metadata": {},
   "outputs": [],
   "source": [
    "from sklearn.ensemble import RandomForestClassifier\n",
    "from joblib import dump, load\n",
    "from ipywidgets import *\n",
    "import numpy as np\n",
    "import matplotlib.pyplot as plt"
   ]
  },
  {
   "cell_type": "markdown",
   "metadata": {},
   "source": [
    "# SAQ - Modèle prédictif de la qualité d’un vin"
   ]
  },
  {
   "cell_type": "code",
   "execution_count": 3,
   "metadata": {},
   "outputs": [
    {
     "data": {
      "application/vnd.jupyter.widget-view+json": {
       "model_id": "ad42d9fa8a944f16b19097e2347aff12",
       "version_major": 2,
       "version_minor": 0
      },
      "text/plain": [
       "Image(value=b'\\x89PNG\\r\\n\\x1a\\n\\x00\\x00\\x00\\rIHDR\\x00\\x00\\x01\\xf4\\x00\\x00\\x00\\xfa\\x08\\x03\\x00\\x00\\x00`uE|\\x00\\…"
      ]
     },
     "metadata": {},
     "output_type": "display_data"
    }
   ],
   "source": [
    "file = open(\"saq-logo-caroussel.png\", \"rb\")\n",
    "image = file.read()\n",
    "widgets.Image(\n",
    "    value=image,\n",
    "    format='png',\n",
    "    width=450,\n",
    "    height=650,\n",
    ")"
   ]
  },
  {
   "cell_type": "code",
   "execution_count": 4,
   "metadata": {},
   "outputs": [],
   "source": [
    "model = load('wine_randomforest.joblib') \n",
    "output = widgets.Output()\n",
    "lbl_pred = widgets.Label() \n",
    "btn_run = widgets.Button(description='Classify')"
   ]
  },
  {
   "cell_type": "code",
   "execution_count": 11,
   "metadata": {},
   "outputs": [],
   "source": [
    "style = {'description_width': 'initial'}\n",
    "\n",
    "model = model\n",
    "output = widgets.Output()\n",
    "lbl_pred = widgets.Label() \n",
    "btn_run = widgets.Button(description='Classify')\n",
    "\n",
    "a = widgets.FloatSlider(description='fixed acidity:', value=0, min=1, max=14, style=style)\n",
    "b = widgets.FloatSlider(description='volatile acidity:', value=0, min=0.1, max=2.0,  style=style)\n",
    "c = widgets.FloatSlider(description='citric acid:', value=0, min=0, max=1,  style=style)\n",
    "\n",
    "d = widgets.FloatSlider(description='residual sugar:', value=0, min=0, max=16, style=style)\n",
    "e = widgets.FloatSlider(description='chlorides:', value=0, min=0, max=1,  style=style)\n",
    "f = widgets.FloatSlider(description='free sulfur dioxide:', value=10, min=1, max=72,  style=style)\n",
    "\n",
    "g = widgets.FloatSlider(description='total sulfur dioxide:', value=0, min=1, max=300, style=style)\n",
    "h = widgets.FloatSlider(description='density:', value=0, min=0, max=1,  style=style)\n",
    "i = widgets.FloatSlider(description='pH:', value=0, min=1, max=5,  style=style)\n",
    "\n",
    "j = widgets.FloatSlider(description='sulphates:', value=0, min=0, max=2,  style=style)\n",
    "k = widgets.FloatSlider(description='alcohol:', value=0, min=5, max=15,  style=style)\n",
    "\n",
    "\n",
    "hbox1 = widgets.HBox([a, b, c, d])\n",
    "\n",
    "hbox2 = widgets.HBox([e, f, g, h])\n",
    "\n",
    "hbox3 = widgets.HBox([i, j, k])\n",
    "\n",
    "# Model Feature Importance\n",
    "features = np.array(['fixed acidity', 'volatile acidity', 'citric acid', 'residual sugar',\n",
    "       'chlorides', 'free sulfur dioxide', 'total sulfur dioxide', 'density',\n",
    "       'pH', 'sulphates', 'alcohol'])\n",
    "\n",
    "\n",
    "def abc_classifier(change):\n",
    "    lbl_pred.value = ''\n",
    "    output.clear_output()\n",
    "    with output:\n",
    "      # a.value = change['new']\n",
    "      # b.value = change['new']\n",
    "      # c.value = change['new']\n",
    "      data = [[a.value, b.value, c.value, d.value, e.value, f.value, g.value, h.value, i.value, j.value, k.value]]\n",
    "      pred = model.predict(data)\n",
    "      lbl_pred.value = f'Ce vin est noté {pred[0]} étoiles'\n",
    "      print(lbl_pred.value)\n",
    "      sorted_idx = model.feature_importances_.argsort()\n",
    "      plt.barh(features[sorted_idx], model.feature_importances_[sorted_idx])\n",
    "#       plt.xlabel(\"Random Forest Feature Importance\")"
   ]
  },
  {
   "cell_type": "code",
   "execution_count": 12,
   "metadata": {},
   "outputs": [],
   "source": [
    "btn_run.on_click(abc_classifier)"
   ]
  },
  {
   "cell_type": "markdown",
   "metadata": {
    "scrolled": false
   },
   "source": [
    "Échelle des notes allant de 1 à 3\n",
    "\n",
    "- 3 Stars :\t*Excellent*\n",
    "- 2 Stars :\t*Casual Quaffing*\n",
    "- 1 Star : *Very Ordinary*"
   ]
  },
  {
   "cell_type": "code",
   "execution_count": 13,
   "metadata": {},
   "outputs": [
    {
     "data": {
      "application/vnd.jupyter.widget-view+json": {
       "model_id": "01a5a2e4d41d46ac9da6942c71cf45d6",
       "version_major": 2,
       "version_minor": 0
      },
      "text/plain": [
       "VBox(children=(Label(value='Choissisez les valeurs'), HBox(children=(FloatSlider(value=1.0, description='fixed…"
      ]
     },
     "metadata": {},
     "output_type": "display_data"
    },
    {
     "data": {
      "image/png": "[encoded data removed]",
      "text/plain": [
       "<Figure size 432x288 with 1 Axes>"
      ]
     },
     "metadata": {
      "needs_background": "light"
     },
     "output_type": "display_data"
    }
   ],
   "source": [
    "display(VBox([widgets.Label('Choissisez les valeurs'), hbox1, hbox2, hbox3, btn_run, output]))"
   ]
  },
  {
   "cell_type": "code",
   "execution_count": null,
   "metadata": {},
   "outputs": [],
   "source": []
  }
 ],
 "metadata": {
  "jupytext": {
   "split_at_heading": true
  },
  "kernelspec": {
   "display_name": "Python 3",
   "language": "python",
   "name": "python3"
  },
  "language_info": {
   "codemirror_mode": {
    "name": "ipython",
    "version": 3
   },
   "file_extension": ".py",
   "mimetype": "text/x-python",
   "name": "python",
   "nbconvert_exporter": "python",
   "pygments_lexer": "ipython3",
   "version": "3.7.8"
  },
  "toc": {
   "base_numbering": 1,
   "nav_menu": {},
   "number_sections": false,
   "sideBar": true,
   "skip_h1_title": true,
   "title_cell": "Table of Contents",
   "title_sidebar": "Contents",
   "toc_cell": false,
   "toc_position": {},
   "toc_section_display": true,
   "toc_window_display": false
  }
 },
 "nbformat": 4,
 "nbformat_minor": 2
}
